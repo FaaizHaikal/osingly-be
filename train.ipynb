{
 "cells": [
  {
   "cell_type": "markdown",
   "id": "a2479376",
   "metadata": {},
   "source": [
    "## Training"
   ]
  },
  {
   "cell_type": "code",
   "execution_count": 19,
   "id": "dfff5ee0",
   "metadata": {},
   "outputs": [
    {
     "name": "stdout",
     "output_type": "stream",
     "text": [
      "2.7.1+cu128\n"
     ]
    }
   ],
   "source": [
    "from transformers import MarianMTModel, MarianTokenizer, Seq2SeqTrainingArguments, Seq2SeqTrainer, DataCollatorForSeq2Seq\n",
    "import torch\n",
    "import csv\n",
    "import pandas as pd\n",
    "from datasets import Dataset\n",
    "\n",
    "import logging\n",
    "logging.basicConfig(level=logging.INFO)\n",
    "\n",
    "print(torch.__version__)"
   ]
  },
  {
   "cell_type": "code",
   "execution_count": 2,
   "id": "8bd2314e",
   "metadata": {},
   "outputs": [
    {
     "name": "stdout",
     "output_type": "stream",
     "text": [
      "<frozen runpy>:128: RuntimeWarning: 'torch.utils.collect_env' found in sys.modules after import of package 'torch.utils', but prior to execution of 'torch.utils.collect_env'; this may result in unpredictable behaviour\n",
      "Collecting environment information...\n",
      "PyTorch version: 2.7.1+cu128\n",
      "Is debug build: False\n",
      "CUDA used to build PyTorch: 12.8\n",
      "ROCM used to build PyTorch: N/A\n",
      "\n",
      "OS: Ubuntu 24.04.2 LTS (x86_64)\n",
      "GCC version: (Ubuntu 13.3.0-6ubuntu2~24.04) 13.3.0\n",
      "Clang version: 18.1.3 (1ubuntu1)\n",
      "CMake version: version 3.28.3\n",
      "Libc version: glibc-2.39\n",
      "\n",
      "Python version: 3.12.3 (main, Jun 18 2025, 17:59:45) [GCC 13.3.0] (64-bit runtime)\n",
      "Python platform: Linux-6.11.0-26-generic-x86_64-with-glibc2.39\n",
      "Is CUDA available: True\n",
      "CUDA runtime version: 12.8.61\n",
      "CUDA_MODULE_LOADING set to: LAZY\n",
      "GPU models and configuration: GPU 0: NVIDIA GeForce RTX 3060 Ti\n",
      "Nvidia driver version: 550.144.03\n",
      "cuDNN version: Probably one of the following:\n",
      "/usr/lib/x86_64-linux-gnu/libcudnn.so.9.10.2\n",
      "/usr/lib/x86_64-linux-gnu/libcudnn_adv.so.9.10.2\n",
      "/usr/lib/x86_64-linux-gnu/libcudnn_cnn.so.9.10.2\n",
      "/usr/lib/x86_64-linux-gnu/libcudnn_engines_precompiled.so.9.10.2\n",
      "/usr/lib/x86_64-linux-gnu/libcudnn_engines_runtime_compiled.so.9.10.2\n",
      "/usr/lib/x86_64-linux-gnu/libcudnn_graph.so.9.10.2\n",
      "/usr/lib/x86_64-linux-gnu/libcudnn_heuristic.so.9.10.2\n",
      "/usr/lib/x86_64-linux-gnu/libcudnn_ops.so.9.10.2\n",
      "HIP runtime version: N/A\n",
      "MIOpen runtime version: N/A\n",
      "Is XNNPACK available: True\n",
      "\n",
      "CPU:\n",
      "Architecture:                         x86_64\n",
      "CPU op-mode(s):                       32-bit, 64-bit\n",
      "Address sizes:                        48 bits physical, 48 bits virtual\n",
      "Byte Order:                           Little Endian\n",
      "CPU(s):                               16\n",
      "On-line CPU(s) list:                  0-15\n",
      "Vendor ID:                            AuthenticAMD\n",
      "Model name:                           AMD Ryzen 7 5800X 8-Core Processor\n",
      "CPU family:                           25\n",
      "Model:                                33\n",
      "Thread(s) per core:                   2\n",
      "Core(s) per socket:                   8\n",
      "Socket(s):                            1\n",
      "Stepping:                             2\n",
      "Frequency boost:                      enabled\n",
      "CPU(s) scaling MHz:                   67%\n",
      "CPU max MHz:                          4851.0000\n",
      "CPU min MHz:                          550.0000\n",
      "BogoMIPS:                             7585.43\n",
      "Flags:                                fpu vme de pse tsc msr pae mce cx8 apic sep mtrr pge mca cmov pat pse36 clflush mmx fxsr sse sse2 ht syscall nx mmxext fxsr_opt pdpe1gb rdtscp lm constant_tsc rep_good nopl xtopology nonstop_tsc cpuid extd_apicid aperfmperf rapl pni pclmulqdq monitor ssse3 fma cx16 sse4_1 sse4_2 movbe popcnt aes xsave avx f16c rdrand lahf_lm cmp_legacy svm extapic cr8_legacy abm sse4a misalignsse 3dnowprefetch osvw ibs skinit wdt tce topoext perfctr_core perfctr_nb bpext perfctr_llc mwaitx cpb cat_l3 cdp_l3 hw_pstate ssbd mba ibrs ibpb stibp vmmcall fsgsbase bmi1 avx2 smep bmi2 erms invpcid cqm rdt_a rdseed adx smap clflushopt clwb sha_ni xsaveopt xsavec xgetbv1 xsaves cqm_llc cqm_occup_llc cqm_mbm_total cqm_mbm_local user_shstk clzero irperf xsaveerptr rdpru wbnoinvd arat npt lbrv svm_lock nrip_save tsc_scale vmcb_clean flushbyasid decodeassists pausefilter pfthreshold avic v_vmsave_vmload vgif v_spec_ctrl umip pku ospke vaes vpclmulqdq rdpid overflow_recov succor smca fsrm debug_swap\n",
      "Virtualization:                       AMD-V\n",
      "L1d cache:                            256 KiB (8 instances)\n",
      "L1i cache:                            256 KiB (8 instances)\n",
      "L2 cache:                             4 MiB (8 instances)\n",
      "L3 cache:                             32 MiB (1 instance)\n",
      "NUMA node(s):                         1\n",
      "NUMA node0 CPU(s):                    0-15\n",
      "Vulnerability Gather data sampling:   Not affected\n",
      "Vulnerability Itlb multihit:          Not affected\n",
      "Vulnerability L1tf:                   Not affected\n",
      "Vulnerability Mds:                    Not affected\n",
      "Vulnerability Meltdown:               Not affected\n",
      "Vulnerability Mmio stale data:        Not affected\n",
      "Vulnerability Reg file data sampling: Not affected\n",
      "Vulnerability Retbleed:               Not affected\n",
      "Vulnerability Spec rstack overflow:   Mitigation; Safe RET\n",
      "Vulnerability Spec store bypass:      Mitigation; Speculative Store Bypass disabled via prctl\n",
      "Vulnerability Spectre v1:             Mitigation; usercopy/swapgs barriers and __user pointer sanitization\n",
      "Vulnerability Spectre v2:             Mitigation; Retpolines; IBPB conditional; IBRS_FW; STIBP always-on; RSB filling; PBRSB-eIBRS Not affected; BHI Not affected\n",
      "Vulnerability Srbds:                  Not affected\n",
      "Vulnerability Tsx async abort:        Not affected\n",
      "\n",
      "Versions of relevant libraries:\n",
      "[pip3] ament-flake8==0.17.2\n",
      "[pip3] numpy==2.3.0\n",
      "[pip3] nvidia-cublas-cu11==11.11.3.6\n",
      "[pip3] nvidia-cublas-cu12==12.8.3.14\n",
      "[pip3] nvidia-cuda-cupti-cu11==11.8.87\n",
      "[pip3] nvidia-cuda-cupti-cu12==12.8.57\n",
      "[pip3] nvidia-cuda-nvrtc-cu11==11.8.89\n",
      "[pip3] nvidia-cuda-nvrtc-cu12==12.8.61\n",
      "[pip3] nvidia-cuda-runtime-cu11==11.8.89\n",
      "[pip3] nvidia-cuda-runtime-cu12==12.8.57\n",
      "[pip3] nvidia-cudnn-cu11==9.1.0.70\n",
      "[pip3] nvidia-cudnn-cu12==9.7.1.26\n",
      "[pip3] nvidia-cufft-cu11==10.9.0.58\n",
      "[pip3] nvidia-cufft-cu12==11.3.3.41\n",
      "[pip3] nvidia-curand-cu11==10.3.0.86\n",
      "[pip3] nvidia-curand-cu12==10.3.9.55\n",
      "[pip3] nvidia-cusolver-cu11==11.4.1.48\n",
      "[pip3] nvidia-cusolver-cu12==11.7.2.55\n",
      "[pip3] nvidia-cusparse-cu11==11.7.5.86\n",
      "[pip3] nvidia-cusparse-cu12==12.5.7.53\n",
      "[pip3] nvidia-cusparselt-cu12==0.6.3\n",
      "[pip3] nvidia-nccl-cu11==2.21.5\n",
      "[pip3] nvidia-nccl-cu12==2.26.2\n",
      "[pip3] nvidia-nvjitlink-cu12==12.8.61\n",
      "[pip3] nvidia-nvtx-cu11==11.8.86\n",
      "[pip3] nvidia-nvtx-cu12==12.8.55\n",
      "[pip3] torch==2.7.1+cu128\n",
      "[pip3] torchaudio==2.7.1+cu128\n",
      "[pip3] torchvision==0.22.1+cu128\n",
      "[pip3] triton==3.3.1\n",
      "[conda] Could not collect\n"
     ]
    }
   ],
   "source": [
    "!python -m torch.utils.collect_env"
   ]
  },
  {
   "cell_type": "code",
   "execution_count": 21,
   "id": "ff13ff52",
   "metadata": {},
   "outputs": [
    {
     "data": {
      "text/html": [
       "<div>\n",
       "<style scoped>\n",
       "    .dataframe tbody tr th:only-of-type {\n",
       "        vertical-align: middle;\n",
       "    }\n",
       "\n",
       "    .dataframe tbody tr th {\n",
       "        vertical-align: top;\n",
       "    }\n",
       "\n",
       "    .dataframe thead th {\n",
       "        text-align: right;\n",
       "    }\n",
       "</style>\n",
       "<table border=\"1\" class=\"dataframe\">\n",
       "  <thead>\n",
       "    <tr style=\"text-align: right;\">\n",
       "      <th></th>\n",
       "      <th>Unnamed: 0</th>\n",
       "      <th>osing</th>\n",
       "      <th>indonesia</th>\n",
       "    </tr>\n",
       "  </thead>\n",
       "  <tbody>\n",
       "    <tr>\n",
       "      <th>0</th>\n",
       "      <td>0</td>\n",
       "      <td>iro wis madhang</td>\n",
       "      <td>kamu sudah makan</td>\n",
       "    </tr>\n",
       "    <tr>\n",
       "      <th>1</th>\n",
       "      <td>1</td>\n",
       "      <td>durung</td>\n",
       "      <td>belum</td>\n",
       "    </tr>\n",
       "    <tr>\n",
       "      <th>2</th>\n",
       "      <td>2</td>\n",
       "      <td>isun pancen arep madhang nang kene</td>\n",
       "      <td>aku memang mau makan di sini</td>\n",
       "    </tr>\n",
       "    <tr>\n",
       "      <th>3</th>\n",
       "      <td>3</td>\n",
       "      <td>riko arep pesen opo</td>\n",
       "      <td>kamu mau pesan apa</td>\n",
       "    </tr>\n",
       "    <tr>\n",
       "      <th>4</th>\n",
       "      <td>4</td>\n",
       "      <td>aku pesen nasi goreng lan teh anget</td>\n",
       "      <td>aku pesan nasi goreng dan teh hangat</td>\n",
       "    </tr>\n",
       "  </tbody>\n",
       "</table>\n",
       "</div>"
      ],
      "text/plain": [
       "   Unnamed: 0                                osing  \\\n",
       "0           0                      iro wis madhang   \n",
       "1           1                               durung   \n",
       "2           2   isun pancen arep madhang nang kene   \n",
       "3           3                  riko arep pesen opo   \n",
       "4           4  aku pesen nasi goreng lan teh anget   \n",
       "\n",
       "                              indonesia  \n",
       "0                      kamu sudah makan  \n",
       "1                                 belum  \n",
       "2          aku memang mau makan di sini  \n",
       "3                    kamu mau pesan apa  \n",
       "4  aku pesan nasi goreng dan teh hangat  "
      ]
     },
     "execution_count": 21,
     "metadata": {},
     "output_type": "execute_result"
    }
   ],
   "source": [
    "df = pd.read_csv(\"data/korpus.csv\")\n",
    "df.head()"
   ]
  },
  {
   "cell_type": "code",
   "execution_count": 22,
   "id": "f8858768",
   "metadata": {},
   "outputs": [
    {
     "data": {
      "text/html": [
       "<div>\n",
       "<style scoped>\n",
       "    .dataframe tbody tr th:only-of-type {\n",
       "        vertical-align: middle;\n",
       "    }\n",
       "\n",
       "    .dataframe tbody tr th {\n",
       "        vertical-align: top;\n",
       "    }\n",
       "\n",
       "    .dataframe thead th {\n",
       "        text-align: right;\n",
       "    }\n",
       "</style>\n",
       "<table border=\"1\" class=\"dataframe\">\n",
       "  <thead>\n",
       "    <tr style=\"text-align: right;\">\n",
       "      <th></th>\n",
       "      <th>src</th>\n",
       "      <th>tgt</th>\n",
       "    </tr>\n",
       "  </thead>\n",
       "  <tbody>\n",
       "    <tr>\n",
       "      <th>0</th>\n",
       "      <td>&gt;&gt;osing&lt;&lt; kamu sudah makan</td>\n",
       "      <td>iro wis madhang</td>\n",
       "    </tr>\n",
       "    <tr>\n",
       "      <th>1</th>\n",
       "      <td>&gt;&gt;osing&lt;&lt; belum</td>\n",
       "      <td>durung</td>\n",
       "    </tr>\n",
       "    <tr>\n",
       "      <th>2</th>\n",
       "      <td>&gt;&gt;osing&lt;&lt; aku memang mau makan di sini</td>\n",
       "      <td>isun pancen arep madhang nang kene</td>\n",
       "    </tr>\n",
       "    <tr>\n",
       "      <th>3</th>\n",
       "      <td>&gt;&gt;osing&lt;&lt; kamu mau pesan apa</td>\n",
       "      <td>riko arep pesen opo</td>\n",
       "    </tr>\n",
       "    <tr>\n",
       "      <th>4</th>\n",
       "      <td>&gt;&gt;osing&lt;&lt; aku pesan nasi goreng dan teh hangat</td>\n",
       "      <td>aku pesen nasi goreng lan teh anget</td>\n",
       "    </tr>\n",
       "  </tbody>\n",
       "</table>\n",
       "</div>"
      ],
      "text/plain": [
       "                                              src  \\\n",
       "0                      >>osing<< kamu sudah makan   \n",
       "1                                 >>osing<< belum   \n",
       "2          >>osing<< aku memang mau makan di sini   \n",
       "3                    >>osing<< kamu mau pesan apa   \n",
       "4  >>osing<< aku pesan nasi goreng dan teh hangat   \n",
       "\n",
       "                                   tgt  \n",
       "0                      iro wis madhang  \n",
       "1                               durung  \n",
       "2   isun pancen arep madhang nang kene  \n",
       "3                  riko arep pesen opo  \n",
       "4  aku pesen nasi goreng lan teh anget  "
      ]
     },
     "execution_count": 22,
     "metadata": {},
     "output_type": "execute_result"
    }
   ],
   "source": [
    "df_bidirectional = pd.concat([\n",
    "    pd.DataFrame({'src': '>>osing<< ' + df['indonesia'], 'tgt': df['osing']}),\n",
    "    pd.DataFrame({'src': '>>indonesia<< ' + df['osing'], 'tgt': df['indonesia']})\n",
    "], ignore_index=True)\n",
    "\n",
    "df_bidirectional[\"src\"] = df_bidirectional[\"src\"].astype(str)\n",
    "df_bidirectional[\"tgt\"] = df_bidirectional[\"tgt\"].astype(str)\n",
    "\n",
    "df_bidirectional.head()"
   ]
  },
  {
   "cell_type": "code",
   "execution_count": 23,
   "id": "d55aec35",
   "metadata": {},
   "outputs": [],
   "source": [
    "from sklearn.model_selection import train_test_split\n",
    "\n",
    "train_df, val_df = train_test_split(df_bidirectional, test_size=0.1)"
   ]
  },
  {
   "cell_type": "code",
   "execution_count": 24,
   "id": "226c159c",
   "metadata": {},
   "outputs": [],
   "source": [
    "tokenizer = MarianTokenizer.from_pretrained(\"Helsinki-NLP/opus-mt-id-en\")\n",
    "\n",
    "def tokenize_fn(batch):\n",
    "    model_inputs = tokenizer(batch['src'], truncation=True, padding='max_length', max_length=64)\n",
    "    with tokenizer.as_target_tokenizer():\n",
    "        labels = tokenizer(batch['tgt'], truncation=True, padding='max_length', max_length=64)\n",
    "    model_inputs[\"labels\"] = labels[\"input_ids\"]\n",
    "    return model_inputs"
   ]
  },
  {
   "cell_type": "code",
   "execution_count": 25,
   "id": "2e359287",
   "metadata": {},
   "outputs": [
    {
     "name": "stderr",
     "output_type": "stream",
     "text": [
      "Map:   0%|          | 0/12474 [00:00<?, ? examples/s]/home/faaiz/my-projects/osingly-be/.venv/lib/python3.12/site-packages/transformers/tokenization_utils_base.py:3959: UserWarning: `as_target_tokenizer` is deprecated and will be removed in v5 of Transformers. You can tokenize your labels by using the argument `text_target` of the regular `__call__` method (either in the same call as your input texts if you use the same keyword arguments, or in a separate call.\n",
      "  warnings.warn(\n",
      "Map: 100%|██████████| 12474/12474 [00:00<00:00, 12765.29 examples/s]\n",
      "Map: 100%|██████████| 1386/1386 [00:00<00:00, 12676.31 examples/s]\n"
     ]
    }
   ],
   "source": [
    "train_dataset = Dataset.from_pandas(train_df).map(tokenize_fn, batched=True)\n",
    "val_dataset = Dataset.from_pandas(val_df).map(tokenize_fn, batched=True)\n",
    "\n",
    "# Load base Marian model\n",
    "model = MarianMTModel.from_pretrained(\"Helsinki-NLP/opus-mt-id-en\").to(\"cuda\")"
   ]
  },
  {
   "cell_type": "code",
   "execution_count": null,
   "id": "bc8c94c9",
   "metadata": {},
   "outputs": [
    {
     "name": "stderr",
     "output_type": "stream",
     "text": [
      "/tmp/ipykernel_7342/685552627.py:18: FutureWarning: `tokenizer` is deprecated and will be removed in version 5.0.0 for `Seq2SeqTrainer.__init__`. Use `processing_class` instead.\n",
      "  trainer = Seq2SeqTrainer(\n"
     ]
    }
   ],
   "source": [
    "# Training config\n",
    "training_args = Seq2SeqTrainingArguments(\n",
    "    output_dir=\"models\",\n",
    "    eval_strategy=\"epoch\",\n",
    "    learning_rate=5e-5,\n",
    "    per_device_train_batch_size=8,\n",
    "    per_device_eval_batch_size=8,\n",
    "    weight_decay=0.01,\n",
    "    save_total_limit=2,\n",
    "    num_train_epochs=10,\n",
    "    fp16=True,\n",
    "    predict_with_generate=True,\n",
    "    logging_strategy='steps',    # Log every X steps\n",
    "    logging_steps=100,           # Log every 100 steps\n",
    "    report_to='tensorboard',\n",
    ")\n",
    "\n",
    "trainer = Seq2SeqTrainer(\n",
    "    model=model,\n",
    "    args=training_args,\n",
    "    train_dataset=train_dataset,\n",
    "    eval_dataset=val_dataset,\n",
    "    tokenizer=tokenizer,\n",
    "    data_collator=DataCollatorForSeq2Seq(tokenizer, model=model),\n",
    ")"
   ]
  },
  {
   "cell_type": "code",
   "execution_count": 19,
   "id": "fc9994e9",
   "metadata": {},
   "outputs": [
    {
     "data": {
      "text/html": [
       "\n",
       "    <div>\n",
       "      \n",
       "      <progress value='15600' max='15600' style='width:300px; height:20px; vertical-align: middle;'></progress>\n",
       "      [15600/15600 14:59, Epoch 10/10]\n",
       "    </div>\n",
       "    <table border=\"1\" class=\"dataframe\">\n",
       "  <thead>\n",
       " <tr style=\"text-align: left;\">\n",
       "      <th>Epoch</th>\n",
       "      <th>Training Loss</th>\n",
       "      <th>Validation Loss</th>\n",
       "    </tr>\n",
       "  </thead>\n",
       "  <tbody>\n",
       "    <tr>\n",
       "      <td>1</td>\n",
       "      <td>0.095000</td>\n",
       "      <td>0.098915</td>\n",
       "    </tr>\n",
       "    <tr>\n",
       "      <td>2</td>\n",
       "      <td>0.056600</td>\n",
       "      <td>0.069307</td>\n",
       "    </tr>\n",
       "    <tr>\n",
       "      <td>3</td>\n",
       "      <td>0.036100</td>\n",
       "      <td>0.056398</td>\n",
       "    </tr>\n",
       "    <tr>\n",
       "      <td>4</td>\n",
       "      <td>0.022700</td>\n",
       "      <td>0.052887</td>\n",
       "    </tr>\n",
       "    <tr>\n",
       "      <td>5</td>\n",
       "      <td>0.016000</td>\n",
       "      <td>0.049061</td>\n",
       "    </tr>\n",
       "    <tr>\n",
       "      <td>6</td>\n",
       "      <td>0.012600</td>\n",
       "      <td>0.048643</td>\n",
       "    </tr>\n",
       "    <tr>\n",
       "      <td>7</td>\n",
       "      <td>0.009900</td>\n",
       "      <td>0.047258</td>\n",
       "    </tr>\n",
       "    <tr>\n",
       "      <td>8</td>\n",
       "      <td>0.007900</td>\n",
       "      <td>0.046588</td>\n",
       "    </tr>\n",
       "    <tr>\n",
       "      <td>9</td>\n",
       "      <td>0.006100</td>\n",
       "      <td>0.047256</td>\n",
       "    </tr>\n",
       "    <tr>\n",
       "      <td>10</td>\n",
       "      <td>0.004800</td>\n",
       "      <td>0.047142</td>\n",
       "    </tr>\n",
       "  </tbody>\n",
       "</table><p>"
      ],
      "text/plain": [
       "<IPython.core.display.HTML object>"
      ]
     },
     "metadata": {},
     "output_type": "display_data"
    },
    {
     "data": {
      "text/plain": [
       "TrainOutput(global_step=15600, training_loss=0.029894565981932176, metrics={'train_runtime': 899.6568, 'train_samples_per_second': 138.653, 'train_steps_per_second': 17.34, 'total_flos': 2114241020559360.0, 'train_loss': 0.029894565981932176, 'epoch': 10.0})"
      ]
     },
     "execution_count": 19,
     "metadata": {},
     "output_type": "execute_result"
    }
   ],
   "source": [
    "trainer.train()"
   ]
  },
  {
   "cell_type": "code",
   "execution_count": 20,
   "id": "5c8e0fa3",
   "metadata": {},
   "outputs": [
    {
     "data": {
      "text/plain": [
       "('models/osing-translator/tokenizer_config.json',\n",
       " 'models/osing-translator/special_tokens_map.json',\n",
       " 'models/osing-translator/vocab.json',\n",
       " 'models/osing-translator/source.spm',\n",
       " 'models/osing-translator/target.spm',\n",
       " 'models/osing-translator/added_tokens.json')"
      ]
     },
     "execution_count": 20,
     "metadata": {},
     "output_type": "execute_result"
    }
   ],
   "source": [
    "model.save_pretrained(\"models/osing-translator\")\n",
    "tokenizer.save_pretrained(\"models/osing-translator\")"
   ]
  },
  {
   "cell_type": "markdown",
   "id": "9666ddcc",
   "metadata": {},
   "source": [
    "## Testing"
   ]
  },
  {
   "cell_type": "code",
   "execution_count": 26,
   "id": "54031eab",
   "metadata": {},
   "outputs": [],
   "source": [
    "from transformers import MarianTokenizer, MarianMTModel, Seq2SeqTrainer\n",
    "import torch\n",
    "\n",
    "model_path=\"models/osing-translator\"\n",
    "\n",
    "tokenizer = MarianTokenizer.from_pretrained(model_path)\n",
    "model = MarianMTModel.from_pretrained(model_path).to(\"cuda\")"
   ]
  },
  {
   "cell_type": "code",
   "execution_count": 27,
   "id": "ed0cd148",
   "metadata": {},
   "outputs": [],
   "source": [
    "from sacrebleu import corpus_bleu\n",
    "import numpy as np\n",
    "\n",
    "def compute_metrics(eval_preds):\n",
    "    preds, labels = eval_preds\n",
    "    if isinstance(preds, tuple):\n",
    "        preds = preds[0]\n",
    "        \n",
    "    # Decode predictions and labels\n",
    "    decoded_preds = tokenizer.batch_decode(preds, skip_special_tokens=True)\n",
    "    \n",
    "    # Replace -100 in labels (which we set as padding) with pad_token_id\n",
    "    labels = np.where(labels != -100, labels, tokenizer.pad_token_id)\n",
    "    decoded_labels = tokenizer.batch_decode(labels, skip_special_tokens=True)\n",
    "    \n",
    "    # Compute BLEU score\n",
    "    bleu_score = corpus_bleu(decoded_preds, [decoded_labels])\n",
    "    \n",
    "    return {\"bleu\": bleu_score.score}"
   ]
  },
  {
   "cell_type": "code",
   "execution_count": 28,
   "id": "783c61ef",
   "metadata": {},
   "outputs": [
    {
     "name": "stderr",
     "output_type": "stream",
     "text": [
      "/tmp/ipykernel_9809/3233953149.py:17: FutureWarning: `tokenizer` is deprecated and will be removed in version 5.0.0 for `Seq2SeqTrainer.__init__`. Use `processing_class` instead.\n",
      "  trainer = Seq2SeqTrainer(\n"
     ]
    },
    {
     "data": {
      "text/html": [
       "\n",
       "    <div>\n",
       "      \n",
       "      <progress value='174' max='174' style='width:300px; height:20px; vertical-align: middle;'></progress>\n",
       "      [174/174 00:31]\n",
       "    </div>\n",
       "    "
      ],
      "text/plain": [
       "<IPython.core.display.HTML object>"
      ]
     },
     "metadata": {},
     "output_type": "display_data"
    },
    {
     "name": "stdout",
     "output_type": "stream",
     "text": [
      "BLEU score: 96.189661770254\n"
     ]
    }
   ],
   "source": [
    "training_args = Seq2SeqTrainingArguments(\n",
    "    output_dir=\"models\",\n",
    "    eval_strategy=\"epoch\",\n",
    "    learning_rate=5e-5,\n",
    "    per_device_train_batch_size=8,\n",
    "    per_device_eval_batch_size=8,\n",
    "    weight_decay=0.01,\n",
    "    save_total_limit=2,\n",
    "    num_train_epochs=10,\n",
    "    fp16=True,\n",
    "    predict_with_generate=True,\n",
    "    logging_strategy='steps',    # Log every X steps\n",
    "    logging_steps=100,           # Log every 100 steps\n",
    "    report_to='tensorboard',\n",
    ")\n",
    "\n",
    "trainer = Seq2SeqTrainer(\n",
    "    model=model,\n",
    "    args=training_args,\n",
    "    eval_dataset=val_dataset,  # Use your validation dataset\n",
    "    tokenizer=tokenizer,\n",
    "    data_collator=DataCollatorForSeq2Seq(tokenizer, model=model),\n",
    "    compute_metrics=compute_metrics,  # Use the BLEU function from earlier\n",
    ")\n",
    "\n",
    "eval_results = trainer.evaluate()\n",
    "print(f\"BLEU score: {eval_results['eval_bleu']}\")"
   ]
  }
 ],
 "metadata": {
  "kernelspec": {
   "display_name": ".venv",
   "language": "python",
   "name": "python3"
  },
  "language_info": {
   "codemirror_mode": {
    "name": "ipython",
    "version": 3
   },
   "file_extension": ".py",
   "mimetype": "text/x-python",
   "name": "python",
   "nbconvert_exporter": "python",
   "pygments_lexer": "ipython3",
   "version": "3.12.3"
  }
 },
 "nbformat": 4,
 "nbformat_minor": 5
}
